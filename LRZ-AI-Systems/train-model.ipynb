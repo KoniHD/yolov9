{
 "cells": [
  {
   "cell_type": "markdown",
   "metadata": {},
   "source": [
    "# How to Train YOLOv9 on a Custom Dataset\n",
    "---\n",
    "\n",
    "[![GitHub](https://badges.aleen42.com/src/github.svg)](https://github.com/WongKinYiu/yolov9)\n",
    "[![arXiv](https://img.shields.io/badge/arXiv-2402.13616-b31b1b.svg)](https://arxiv.org/pdf/2402.13616.pdf)"
   ]
  },
  {
   "cell_type": "markdown",
   "metadata": {},
   "source": [
    "## Before you start &rarr; Update\n",
    "\n",
    "Let's update our Github repo to have our latest changes for the training."
   ]
  },
  {
   "cell_type": "code",
   "execution_count": null,
   "metadata": {},
   "outputs": [],
   "source": [
    "import os\n",
    "\n",
    "HOME = os.path.abspath(os.path.join(os.getcwd(), '../..'))\n",
    "YOLO = os.path.join(HOME, 'yolov9')\n",
    "print(HOME)\n",
    "print(YOLO)\n",
    "\n",
    "!cd {YOLO}\n",
    "!git reset --hard\n",
    "!git pull\n",
    "!cd {HOME}"
   ]
  },
  {
   "cell_type": "markdown",
   "metadata": {},
   "source": [
    "If the update was successfull and the notebook is reloaded with the new changes we install the needed packages for our container. After this it is recommended to also restart the kernel. After this final step you can directly start from the next heading!"
   ]
  },
  {
   "cell_type": "code",
   "execution_count": null,
   "metadata": {},
   "outputs": [],
   "source": [
    "pip install seaborn thop"
   ]
  },
  {
   "cell_type": "markdown",
   "metadata": {},
   "source": [
    "After this process it is recommended to reload the kernel. \\\n",
    "Meaning after the **RELOAD** you can continue below this cell!"
   ]
  },
  {
   "cell_type": "markdown",
   "metadata": {},
   "source": [
    "## Start after successfull updates and package installation\n",
    "\n",
    "Let's make sure that we have access to GPU. We can use `nvidia-smi` command to do that."
   ]
  },
  {
   "cell_type": "code",
   "execution_count": null,
   "metadata": {},
   "outputs": [
    {
     "name": "stdout",
     "output_type": "stream",
     "text": [
      "Mon May 27 16:11:55 2024       \n",
      "+---------------------------------------------------------------------------------------+\n",
      "| NVIDIA-SMI 535.104.05             Driver Version: 535.104.05   CUDA Version: 12.2     |\n",
      "|-----------------------------------------+----------------------+----------------------+\n",
      "| GPU  Name                 Persistence-M | Bus-Id        Disp.A | Volatile Uncorr. ECC |\n",
      "| Fan  Temp   Perf          Pwr:Usage/Cap |         Memory-Usage | GPU-Util  Compute M. |\n",
      "|                                         |                      |               MIG M. |\n",
      "|=========================================+======================+======================|\n",
      "|   0  NVIDIA L4                      Off | 00000000:00:03.0 Off |                    0 |\n",
      "| N/A   35C    P8              12W /  72W |      1MiB / 23034MiB |      0%      Default |\n",
      "|                                         |                      |                  N/A |\n",
      "+-----------------------------------------+----------------------+----------------------+\n",
      "                                                                                         \n",
      "+---------------------------------------------------------------------------------------+\n",
      "| Processes:                                                                            |\n",
      "|  GPU   GI   CI        PID   Type   Process name                            GPU Memory |\n",
      "|        ID   ID                                                             Usage      |\n",
      "|=======================================================================================|\n",
      "|  No running processes found                                                           |\n",
      "+---------------------------------------------------------------------------------------+\n"
     ]
    }
   ],
   "source": [
    "!nvidia-smi"
   ]
  },
  {
   "cell_type": "markdown",
   "metadata": {},
   "source": [
    "**NOTE:** To make it easier for us to manage datasets, images and models we create a `HOME` and `YOLO` constant."
   ]
  },
  {
   "cell_type": "code",
   "execution_count": null,
   "metadata": {},
   "outputs": [],
   "source": [
    "import os, shutil\n",
    "from IPython.display import Image\n",
    "\n",
    "\n",
    "# This needs to be adapted depending on how what dir is mounted in the container\n",
    "HOME = os.path.abspath(os.path.join(os.getcwd(), '../..'))\n",
    "YOLO = os.path.join(HOME, 'yolov9')\n",
    "print(HOME)\n",
    "print(YOLO)"
   ]
  },
  {
   "cell_type": "markdown",
   "metadata": {},
   "source": [
    "Set environment variables for PyTorch: `LOCAL_RANK` and `RANK` have to be set to `='-1'` in order to not trigger distributed GPU training."
   ]
  },
  {
   "cell_type": "code",
   "execution_count": null,
   "metadata": {},
   "outputs": [],
   "source": [
    "os. environ['LOCAL_RANK'] = '-1'\n",
    "os.environ['RANK'] = '-1'\n",
    "\n",
    "print(f\"LOCAL_RANK = {os.environ.get('LOCAL_RANK')}\")\n",
    "print(f\"RANK = {os.environ.get('RANK')}\")"
   ]
  },
  {
   "cell_type": "markdown",
   "metadata": {},
   "source": [
    "Number the trainign runs consecutively"
   ]
  },
  {
   "cell_type": "code",
   "execution_count": null,
   "metadata": {},
   "outputs": [],
   "source": [
    "if os.path.exists(f\"{YOLO}/runs\"):\n",
    "    shutil.rmtree(os.path.join(YOLO, 'runs'))\n",
    "\n",
    "Lauf_num = 'Lauf_'"
   ]
  },
  {
   "cell_type": "markdown",
   "metadata": {},
   "source": [
    "Check if weights and data is downloaded"
   ]
  },
  {
   "cell_type": "code",
   "execution_count": null,
   "metadata": {},
   "outputs": [],
   "source": [
    "!ls -la {HOME}/weights\n",
    "!ls -la {HOME}/loco"
   ]
  },
  {
   "cell_type": "markdown",
   "metadata": {},
   "source": [
    "## Train custom model on LOCO dataset"
   ]
  },
  {
   "cell_type": "markdown",
   "metadata": {},
   "source": [
    "**Note:** `train.py` is only for gelan models `train_dual.py` is only for yolov9 models"
   ]
  },
  {
   "cell_type": "code",
   "execution_count": null,
   "metadata": {},
   "outputs": [],
   "source": [
    "!python3 {YOLO}/train_dual.py --batch 8 --epochs 50 --device 0 --min-items 0 --img 640 \\\n",
    "--name Lauf_ \\\n",
    "--data {YOLO}/loco.yaml \\\n",
    "--weights {HOME}/weights/yolov9-e.pt \\\n",
    "--cfg {YOLO}/models/detect/yolov9_custom.yaml \\\n",
    "--hyp hyp.scratch-high.yaml"
   ]
  },
  {
   "cell_type": "markdown",
   "metadata": {},
   "source": [
    "## Detection with self-trained detection model"
   ]
  },
  {
   "cell_type": "markdown",
   "metadata": {},
   "source": [
    "**Note:** There is no test set. Image `509189,8734.jpg` is just one example from the training dataset. It includes a lot of pallets and a pallet truck which should be detected."
   ]
  },
  {
   "cell_type": "code",
   "execution_count": null,
   "metadata": {},
   "outputs": [],
   "source": [
    "!python3 {YOLO}/detect_dual.py --weights {YOLO}/runs/train/Lauf_/weights/best.pt --conf 0.1 --source {HOME}/loco/images/val/509189,8734.jpg --device 0"
   ]
  },
  {
   "cell_type": "markdown",
   "metadata": {},
   "source": [
    "### Display predicted images"
   ]
  },
  {
   "cell_type": "code",
   "execution_count": null,
   "metadata": {},
   "outputs": [],
   "source": [
    "Image(filename=f\"{HOME}/loco/images/val/509189,8734.jpg\", width=640)    # or maybe width=640???"
   ]
  },
  {
   "cell_type": "code",
   "execution_count": null,
   "metadata": {},
   "outputs": [],
   "source": [
    "Image(filename=f\"{YOLO}/runs/detect/Lauf_/509189,8734.jpg\", width=640)    # or maybe width=640???"
   ]
  },
  {
   "cell_type": "markdown",
   "metadata": {},
   "source": [
    "## Examine Training Results"
   ]
  },
  {
   "cell_type": "markdown",
   "metadata": {},
   "source": [
    "**NOTE:** By default, the results of each subsequent training sessions are saved in `{HOME}/yolov9/runs/train/`, in directories named `exp`, `exp2`, `exp3`, ... You can override this behavior by using the `--name` parameter.\n",
    "\n",
    "For this Notebook I used `'Lauf_'` as naming, which is also already accounted for in the follwoing code."
   ]
  },
  {
   "cell_type": "code",
   "execution_count": null,
   "metadata": {},
   "outputs": [],
   "source": [
    "!ls {HOME}/yolov9/runs/train/Lauf_/"
   ]
  },
  {
   "cell_type": "code",
   "execution_count": null,
   "metadata": {},
   "outputs": [],
   "source": [
    "Image(filename=f\"{HOME}/yolov9/runs/train/Lauf_/results.png\", width=1000)"
   ]
  },
  {
   "cell_type": "code",
   "execution_count": null,
   "metadata": {},
   "outputs": [],
   "source": [
    "Image(filename=f\"{HOME}/yolov9/runs/train/Lauf_/confusion_matrix.png\", width=1000)"
   ]
  },
  {
   "cell_type": "code",
   "execution_count": null,
   "metadata": {},
   "outputs": [],
   "source": [
    "Image(filename=f\"{HOME}/yolov9/runs/train/Lauf_/val_batch0_pred.jpg\", width=1000)"
   ]
  },
  {
   "cell_type": "markdown",
   "metadata": {},
   "source": [
    "## Validate Custom Model"
   ]
  },
  {
   "cell_type": "markdown",
   "metadata": {},
   "source": [
    "**NOTE**: Look into this! Why do you need validation?"
   ]
  },
  {
   "cell_type": "code",
   "execution_count": null,
   "metadata": {},
   "outputs": [],
   "source": [
    "%cd {HOME}/yolov9\n",
    "\n",
    "!python val_dual.py \\\n",
    "--img 640 --batch 8 --conf 0.001 --iou 0.7 --device 0 \\\n",
    "--data {YOLO}/loco.yaml \\\n",
    "--weights {YOLO}/runs/train/Lauf_/weights/best.pt"
   ]
  },
  {
   "cell_type": "markdown",
   "metadata": {},
   "source": [
    "## BONUS: Deploy YOLOv9 Model with Inference"
   ]
  },
  {
   "cell_type": "markdown",
   "metadata": {},
   "source": [
    "**NOTE:** To deploy the model and display inference results, we will need two additional packages - [`inference`](https://pypi.org/project/inference) and [`supervision`](https://pypi.org/project/supervision). Let's install and import them!\n",
    "\n",
    "**REMARK** Maybe check the original Colab ;)"
   ]
  }
 ],
 "metadata": {
  "language_info": {
   "name": "python"
  }
 },
 "nbformat": 4,
 "nbformat_minor": 2
}
